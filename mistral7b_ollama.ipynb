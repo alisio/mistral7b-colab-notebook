{
  "cells": [
    {
      "cell_type": "markdown",
      "metadata": {
        "id": "VGgknOsDrmsF"
      },
      "source": [
        "# Introduction\n",
        "\n",
        "In this notebook, we will demonstrate how to interact with a locally served Mistral AI language model to generate text using ollama."
      ]
    },
    {
      "cell_type": "markdown",
      "metadata": {
        "id": "ahBYd_jarmsH"
      },
      "source": [
        "## Step 1: Prerequisites:\n",
        "\n",
        "Interact  with the \"Mistral\" open-source Large Language Model (LLM) locally through Ollama. Here's how:\n",
        "\n",
        "1. Install Ollama Service: Follow the setup instructions on the Ollama GitHub repository [here](https://github.com/ollama/ollama) to install and run the Ollama service on your system.\n",
        "\n",
        "1. Start Ollama: Use Ollama to download and start the service with Mistral model using `ollama run mistral`.\n",
        "\n",
        "1. Install Python Packages: Ensure you have the required Python packages installed to interact with the Ollama service and utilize the Mistral model effectively.\n",
        "  * `langchain-community==0.0.29`\n",
        "  * `langchain-core==0.1.36`\n"
      ]
    },
    {
      "cell_type": "code",
      "execution_count": 4,
      "metadata": {
        "id": "qy7CwZ7RCYSW"
      },
      "outputs": [],
      "source": [
        "!pip install -q langchain-community==0.0.29 langchain-core==0.1.36"
      ]
    },
    {
      "cell_type": "markdown",
      "metadata": {
        "id": "xElwx4_2rmsI"
      },
      "source": [
        "## Step 2: Prepare the Mistral AI model\n",
        "\n",
        "Preparing a model served by Ollama is simpler compared to downloading and running it within the Colab environment. Although there are multiple parameters, you only need to set the model name and, optionally, the base URL if you're using a remote Ollama service."
      ]
    },
    {
      "cell_type": "code",
      "execution_count": 1,
      "metadata": {
        "id": "7-tiQZj4rmsI"
      },
      "outputs": [],
      "source": [
        "from langchain_community.llms import Ollama\n",
        "\n",
        "llm = Ollama(model=\"mistral\",base_url=\"http://localhost:11434\")"
      ]
    },
    {
      "cell_type": "markdown",
      "metadata": {
        "id": "GgXF8_6ErmsI"
      },
      "source": [
        "## Step 3: Generate text using the Mistral AI model\n",
        "\n",
        "\n",
        "In this step, we will use the Mistral AI model to generate text based on a given prompt. We will use the invoke method provided by the langchain class to generate text. We will specify the prompt as an argument to the invoke method and then print the generated text to the console."
      ]
    },
    {
      "cell_type": "code",
      "execution_count": 2,
      "metadata": {
        "colab": {
          "base_uri": "https://localhost:8080/"
        },
        "id": "Z78va09VrmsJ",
        "outputId": "b3108efd-5b96-4efe-db58-817934bd907b"
      },
      "outputs": [
        {
          "name": "stdout",
          "output_type": "stream",
          "text": [
            " \"The Alchemist\" is a novel by Brazilian author Paulo Coelho, first published in 1987. It has since become one of the best-selling books in the world, with over 65 million copies sold in more than 100 languages.\n",
            "\n",
            "The story follows Santiago, an Andalusian shepherd boy who dreams of discovering a treasure hidden at the bottom of the Egyptian pyramids. After having recurring dreams about the treasured chest filled with precious gems and gold, Santiago decides to embark on a journey to Egypt to find his fortune.\n",
            "\n",
            "During his travels, Santiago meets various people who teach him important life lessons. He learns about the importance of following one's personal legend, or the unique destiny that each person must fulfill in their lives. The story is filled with themes of self-discovery, perseverance, and the pursuit of dreams.\n",
            "\n",
            "Along the way, Santiago encounters a number of obstacles, including a battle against an army of thieves, a dangerous encounter with alchemists, and even being robbed of his possessions by a group of bandits. However, through each experience, Santiago learns something new and becomes wiser on his journey to Egypt.\n",
            "\n",
            "One of the most significant encounters Santiago has is with Melchizedek, an enlightened king who teaches him that the world's greatest treasure is not material wealth, but understanding oneself and following one's heart. Santiago eventually reaches the Egyptian pyramids, only to discover that the treasure he was seeking was not gold or jewels, but the wisdom and self-realization he gained on his journey.\n",
            "\n",
            "The Alchemist is a timeless novel that speaks to the human spirit and the importance of following one's dreams, no matter what obstacles may be in the way. It's a story that encourages readers to listen to their hearts and trust in the universe to guide them towards their personal legends.CPU times: user 347 ms, sys: 94.9 ms, total: 442 ms\n",
            "Wall time: 7.92 s\n"
          ]
        }
      ],
      "source": [
        "%%time\n",
        "\n",
        "for text in llm.invoke(\"Write the summary of the book 'The Alchemist', by Paulo Coelho\"):\n",
        "    print(text, end=\"\", flush=True)"
      ]
    },
    {
      "cell_type": "markdown",
      "metadata": {
        "id": "BOmiJvmlrmsJ"
      },
      "source": [
        "# Conclusion\n",
        "\n",
        "In this notebook, we demonstrated how to use a locally served Mistral AI language model to generate text. We first installed the necessary packages and then prepared the Mistral AI model for use. Finally, we used the model to generate text based on a given prompt."
      ]
    },
    {
      "cell_type": "markdown",
      "metadata": {
        "id": "plu1hnUNrmsJ"
      },
      "source": [
        "# Author\n",
        "\n",
        "* Author: Antonio Alisio de Meneses Cordeiro\n",
        "* email: alisio.meneses@gmail.com"
      ]
    },
    {
      "cell_type": "markdown",
      "metadata": {
        "id": "7zYwN7qvrmsJ"
      },
      "source": []
    }
  ],
  "metadata": {
    "colab": {
      "provenance": []
    },
    "kernelspec": {
      "display_name": "Python 3",
      "name": "python3"
    },
    "language_info": {
      "codemirror_mode": {
        "name": "ipython",
        "version": 3
      },
      "file_extension": ".py",
      "mimetype": "text/x-python",
      "name": "python",
      "nbconvert_exporter": "python",
      "pygments_lexer": "ipython3",
      "version": "3.10.12"
    }
  },
  "nbformat": 4,
  "nbformat_minor": 0
}
